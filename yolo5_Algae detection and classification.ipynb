{
 "cells": [
  {
   "cell_type": "code",
   "execution_count": 1,
   "metadata": {},
   "outputs": [],
   "source": [
    "import torch "
   ]
  },
  {
   "cell_type": "code",
   "execution_count": 2,
   "metadata": {},
   "outputs": [],
   "source": []
  },
  {
   "cell_type": "code",
   "execution_count": 3,
   "metadata": {},
   "outputs": [
    {
     "name": "stderr",
     "output_type": "stream",
     "text": [
      "Cloning into 'yolov5'...\n"
     ]
    }
   ],
   "source": [
    "!git clone https://github.com/ultralytics/yolov5"
   ]
  },
  {
   "cell_type": "code",
   "execution_count": 9,
   "metadata": {},
   "outputs": [
    {
     "name": "stdout",
     "output_type": "stream",
     "text": [
      "[WinError 2] The system cannot find the file specified: 'yolov5'\n",
      "E:\\projects\\Algae classification\\code\\yolov5\n"
     ]
    }
   ],
   "source": [
    "%cd yolov5"
   ]
  },
  {
   "cell_type": "code",
   "execution_count": 1,
   "metadata": {},
   "outputs": [],
   "source": [
    "# !pip install -r requirements.txt"
   ]
  },
  {
   "cell_type": "markdown",
   "metadata": {},
   "source": [
    "# Divide the dataset in train and val folder. "
   ]
  },
  {
   "cell_type": "code",
   "execution_count": 10,
   "metadata": {},
   "outputs": [
    {
     "name": "stdout",
     "output_type": "stream",
     "text": [
      "training images are :  2156\n",
      "Validation images are :  539\n"
     ]
    }
   ],
   "source": [
    "\n",
    "import os\n",
    "from random import choice\n",
    "import shutil\n",
    "\n",
    "#arrays to store file names\n",
    "imgs =[]\n",
    "xmls =[]\n",
    "\n",
    "#setup dir names\n",
    "trainPath = 'E:\\\\projects\\\\Algae classification\\\\code\\\\data\\\\images\\\\train'\n",
    "valPath = 'E:\\\\projects\\\\Algae classification\\\\code\\\\data\\\\images\\\\val'\n",
    "crsPath = 'E:\\\\projects\\\\Algae classification\\\\code\\\\data_copy\\\\' #dir where images and annotations stored\n",
    "\n",
    "#setup ratio (val ratio = rest of the files in origin dir after splitting into train and test)\n",
    "train_ratio = 0.8\n",
    "val_ratio = 0.2\n",
    "\n",
    "\n",
    "#total count of imgs\n",
    "totalImgCount = len(os.listdir(crsPath))/2\n",
    "\n",
    "#soring files to corresponding arrays\n",
    "for (dirname, dirs, files) in os.walk(crsPath):\n",
    "    for filename in files:\n",
    "        if filename.endswith('.txt'):\n",
    "            xmls.append(filename)\n",
    "        else:\n",
    "            imgs.append(filename)\n",
    "\n",
    "\n",
    "#counting range for cycles\n",
    "countForTrain = int(len(imgs)*train_ratio)\n",
    "countForVal = int(len(imgs)*val_ratio)\n",
    "print(\"training images are : \",countForTrain)\n",
    "print(\"Validation images are : \",countForVal)\n"
   ]
  },
  {
   "cell_type": "code",
   "execution_count": 11,
   "metadata": {},
   "outputs": [],
   "source": [
    "\n",
    "trainimagePath = 'E:\\\\projects\\\\Algae classification\\\\code\\\\data\\\\images\\\\train'\n",
    "trainlabelPath = 'E:\\\\projects\\\\Algae classification\\\\code\\\\data\\\\labels\\\\train'\n",
    "valimagePath = 'E:\\\\projects\\\\Algae classification\\\\code\\\\data\\\\images\\\\val'\n",
    "vallabelPath = 'E:\\\\projects\\\\Algae classification\\\\code\\\\data\\\\labels\\\\val'\n",
    "#cycle for train dir\n",
    "for x in range(countForTrain):\n",
    "\n",
    "    fileJpg = choice(imgs) # get name of random image from origin dir\n",
    "    fileXml = fileJpg[:-4] +'.txt' # get name of corresponding annotation file\n",
    "\n",
    "    #move both files into train dir\n",
    "    #shutil.move(os.path.join(crsPath, fileJpg), os.path.join(trainimagePath, fileJpg))\n",
    "    #shutil.move(os.path.join(crsPath, fileXml), os.path.join(trainlabelPath, fileXml))\n",
    "    shutil.copy(os.path.join(crsPath, fileJpg), os.path.join(trainimagePath, fileJpg))\n",
    "    shutil.copy(os.path.join(crsPath, fileXml), os.path.join(trainlabelPath, fileXml))\n",
    "\n",
    "\n",
    "    #remove files from arrays\n",
    "    imgs.remove(fileJpg)\n",
    "    xmls.remove(fileXml)\n",
    "\n",
    "\n",
    "\n",
    "\n"
   ]
  },
  {
   "cell_type": "code",
   "execution_count": 12,
   "metadata": {},
   "outputs": [
    {
     "data": {
      "text/plain": [
       "'E:\\\\projects\\\\Algae classification\\\\code\\\\data\\\\images\\\\val\\\\data_copy'"
      ]
     },
     "execution_count": 12,
     "metadata": {},
     "output_type": "execute_result"
    }
   ],
   "source": [
    "\n",
    "#cycle for test dir   \n",
    "for x in range(countForVal):\n",
    "\n",
    "    fileJpg = choice(imgs) # get name of random image from origin dir\n",
    "    fileXml = fileJpg[:-4] +'.txt' # get name of corresponding annotation file\n",
    "\n",
    "    #move both files into train dir\n",
    "    #shutil.move(os.path.join(crsPath, fileJpg), os.path.join(valimagePath, fileJpg))\n",
    "    #shutil.move(os.path.join(crsPath, fileXml), os.path.join(vallabelPath, fileXml))\n",
    "    shutil.copy(os.path.join(crsPath, fileJpg), os.path.join(valimagePath, fileJpg))\n",
    "    shutil.copy(os.path.join(crsPath, fileXml), os.path.join(vallabelPath, fileXml))\n",
    "    \n",
    "    #remove files from arrays\n",
    "    imgs.remove(fileJpg)\n",
    "    xmls.remove(fileXml)\n",
    "\n",
    "#rest of files will be validation files, so rename origin dir to val dir\n",
    "#os.rename(crsPath, valPath)\n",
    "shutil.move(crsPath, valPath) \n"
   ]
  },
  {
   "attachments": {
    "image.png": {
     "image/png": "[encoded data removed]"
    }
   },
   "cell_type": "markdown",
   "metadata": {},
   "source": [
    "# Create dataset.yaml\n",
    "\n",
    "### move the dataset’s dataset.yaml file to the /content/yolov5/data directory. \n",
    "### This file contains information required by YOLO to train the model on the custom data. \n",
    "\n",
    "![image.png](attachment:image.png)"
   ]
  },
  {
   "cell_type": "code",
   "execution_count": 22,
   "metadata": {},
   "outputs": [
    {
     "data": {
      "text/plain": [
       "'E:\\\\projects\\\\Algae classification\\\\code\\\\yolov5'"
      ]
     },
     "execution_count": 22,
     "metadata": {},
     "output_type": "execute_result"
    }
   ],
   "source": [
    "pwd"
   ]
  },
  {
   "cell_type": "code",
   "execution_count": 26,
   "metadata": {},
   "outputs": [
    {
     "name": "stdout",
     "output_type": "stream",
     "text": [
      "\u001b[34m\u001b[1mgithub: \u001b[0mskipping check (offline), for updates see https://github.com/ultralytics/yolov5"
     ]
    },
    {
     "name": "stderr",
     "output_type": "stream",
     "text": [
      "\u001b[34m\u001b[1mtrain: \u001b[0mweights=yolov5s.pt, cfg=, data=dataset.yaml, hyp=data\\hyps\\hyp.scratch.yaml, epochs=10, batch_size=8, imgsz=415, rect=False, resume=False, nosave=False, noval=False, noautoanchor=False, evolve=None, bucket=, cache=ram, image_weights=False, device=, multi_scale=False, single_cls=False, optimizer=SGD, sync_bn=False, workers=8, project=runs\\train, name=exp, exist_ok=False, quad=False, linear_lr=False, label_smoothing=0.0, patience=100, freeze=[0], save_period=-1, local_rank=-1, entity=None, upload_dataset=False, bbox_interval=-1, artifact_alias=latest\n",
      "YOLOv5  2022-1-12 torch 1.10.1+cpu CPU\n",
      "\n",
      "\u001b[34m\u001b[1mhyperparameters: \u001b[0mlr0=0.01, lrf=0.1, momentum=0.937, weight_decay=0.0005, warmup_epochs=3.0, warmup_momentum=0.8, warmup_bias_lr=0.1, box=0.05, cls=0.5, cls_pw=1.0, obj=1.0, obj_pw=1.0, iou_t=0.2, anchor_t=4.0, fl_gamma=0.0, hsv_h=0.015, hsv_s=0.7, hsv_v=0.4, degrees=0.0, translate=0.1, scale=0.5, shear=0.0, perspective=0.0, flipud=0.0, fliplr=0.5, mosaic=1.0, mixup=0.0, copy_paste=0.0\n",
      "\u001b[34m\u001b[1mTensorBoard: \u001b[0mStart with 'tensorboard --logdir runs\\train', view at http://localhost:6006/\n",
      "2022-01-12 17:46:50.118305: W tensorflow/stream_executor/platform/default/dso_loader.cc:64] Could not load dynamic library 'cudart64_110.dll'; dlerror: cudart64_110.dll not found\n",
      "2022-01-12 17:46:50.118601: I tensorflow/stream_executor/cuda/cudart_stub.cc:29] Ignore above cudart dlerror if you do not have a GPU set up on your machine.\n",
      "Overriding model.yaml nc=80 with nc=4\n",
      "\n",
      "                 from  n    params  module                                  arguments                     \n",
      "  0                -1  1      3520  models.common.Conv                      [3, 32, 6, 2, 2]              \n",
      "  1                -1  1     18560  models.common.Conv                      [32, 64, 3, 2]                \n",
      "  2                -1  1     18816  models.common.C3                        [64, 64, 1]                   \n",
      "  3                -1  1     73984  models.common.Conv                      [64, 128, 3, 2]               \n",
      "  4                -1  2    115712  models.common.C3                        [128, 128, 2]                 \n",
      "  5                -1  1    295424  models.common.Conv                      [128, 256, 3, 2]              \n",
      "  6                -1  3    625152  models.common.C3                        [256, 256, 3]                 \n",
      "  7                -1  1   1180672  models.common.Conv                      [256, 512, 3, 2]              \n",
      "  8                -1  1   1182720  models.common.C3                        [512, 512, 1]                 \n",
      "  9                -1  1    656896  models.common.SPPF                      [512, 512, 5]                 \n",
      " 10                -1  1    131584  models.common.Conv                      [512, 256, 1, 1]              \n",
      " 11                -1  1         0  torch.nn.modules.upsampling.Upsample    [None, 2, 'nearest']          \n",
      " 12           [-1, 6]  1         0  models.common.Concat                    [1]                           \n",
      " 13                -1  1    361984  models.common.C3                        [512, 256, 1, False]          \n",
      " 14                -1  1     33024  models.common.Conv                      [256, 128, 1, 1]              \n",
      " 15                -1  1         0  torch.nn.modules.upsampling.Upsample    [None, 2, 'nearest']          \n",
      " 16           [-1, 4]  1         0  models.common.Concat                    [1]                           \n",
      " 17                -1  1     90880  models.common.C3                        [256, 128, 1, False]          \n",
      " 18                -1  1    147712  models.common.Conv                      [128, 128, 3, 2]              \n",
      " 19          [-1, 14]  1         0  models.common.Concat                    [1]                           \n",
      " 20                -1  1    296448  models.common.C3                        [256, 256, 1, False]          \n",
      " 21                -1  1    590336  models.common.Conv                      [256, 256, 3, 2]              "
     ]
    },
    {
     "name": "stdout",
     "output_type": "stream",
     "text": [
      "\n",
      "\u001b[34m\u001b[1mWeights & Biases: \u001b[0mrun 'pip install wandb' to automatically track and visualize YOLOv5  runs (RECOMMENDED)\n",
      "WARNING: --img-size 415 must be multiple of max stride 32, updating to 416\n",
      "module 'signal' has no attribute 'SIGALRM'\n"
     ]
    },
    {
     "name": "stderr",
     "output_type": "stream",
     "text": [
      "\n",
      " 22          [-1, 10]  1         0  models.common.Concat                    [1]                           \n",
      " 23                -1  1   1182720  models.common.C3                        [512, 512, 1, False]          \n",
      " 24      [17, 20, 23]  1     24273  models.yolo.Detect                      [4, [[10, 13, 16, 30, 33, 23], [30, 61, 62, 45, 59, 119], [116, 90, 156, 198, 373, 326]], [128, 256, 512]]\n",
      "Model Summary: 270 layers, 7030417 parameters, 7030417 gradients, 15.9 GFLOPs\n",
      "\n",
      "Transferred 343/349 items from yolov5s.pt\n",
      "Scaled weight_decay = 0.0005\n",
      "\u001b[34m\u001b[1moptimizer:\u001b[0m SGD with parameter groups 57 weight, 60 weight (no decay), 60 bias\n",
      "\n",
      "\u001b[34m\u001b[1mtrain: \u001b[0mScanning '..\\dataset\\labels\\train.cache' images and labels... 2156 found, 0 missing, 0 empty, 2 corrupted: 100%|##########| 2156/2156 [00:00<?, ?it/s]\n",
      "\u001b[34m\u001b[1mtrain: \u001b[0mScanning '..\\dataset\\labels\\train.cache' images and labels... 2156 found, 0 missing, 0 empty, 2 corrupted: 100%|##########| 2156/2156 [00:00<?, ?it/s]\n",
      "\u001b[34m\u001b[1mtrain: \u001b[0mWARNING: ..\\dataset\\images\\train\\H_V0000 (4).jpg: ignoring corrupt image/label: negative label values [         -1]\n",
      "\u001b[34m\u001b[1mtrain: \u001b[0mWARNING: ..\\dataset\\images\\train\\salat and paper0000 (8).jpg: ignoring corrupt image/label: negative label values [         -1]\n",
      "\n",
      "  0%|          | 0/2154 [00:00<?, ?it/s]\n",
      "\u001b[34m\u001b[1mtrain: \u001b[0mCaching images (0.0GB ram):   5%|5         | 118/2154 [00:00<00:02, 828.46it/s]\n",
      "\u001b[34m\u001b[1mtrain: \u001b[0mCaching images (0.1GB ram):  11%|#1        | 244/2154 [00:00<00:01, 1035.59it/s]\n",
      "\u001b[34m\u001b[1mtrain: \u001b[0mCaching images (0.1GB ram):  16%|#6        | 351/2154 [00:00<00:01, 1009.22it/s]\n",
      "\u001b[34m\u001b[1mtrain: \u001b[0mCaching images (0.2GB ram):  21%|##1       | 454/2154 [00:00<00:01, 906.10it/s] \n",
      "\u001b[34m\u001b[1mtrain: \u001b[0mCaching images (0.2GB ram):  30%|##9       | 637/2154 [00:00<00:01, 1184.19it/s]\n",
      "\u001b[34m\u001b[1mtrain: \u001b[0mCaching images (0.3GB ram):  35%|###5      | 760/2154 [00:00<00:01, 1119.97it/s]\n",
      "\u001b[34m\u001b[1mtrain: \u001b[0mCaching images (0.4GB ram):  45%|####5     | 978/2154 [00:00<00:00, 1329.69it/s]\n",
      "\u001b[34m\u001b[1mtrain: \u001b[0mCaching images (0.5GB ram):  57%|#####7    | 1228/2154 [00:00<00:00, 1630.65it/s]\n",
      "\u001b[34m\u001b[1mtrain: \u001b[0mCaching images (0.5GB ram):  65%|######5   | 1402/2154 [00:01<00:00, 1648.82it/s]\n",
      "\u001b[34m\u001b[1mtrain: \u001b[0mCaching images (0.6GB ram):  73%|#######2  | 1570/2154 [00:01<00:00, 1512.39it/s]\n",
      "\u001b[34m\u001b[1mtrain: \u001b[0mCaching images (0.7GB ram):  80%|########  | 1725/2154 [00:01<00:00, 1499.33it/s]\n",
      "\u001b[34m\u001b[1mtrain: \u001b[0mCaching images (0.7GB ram):  87%|########7 | 1878/2154 [00:01<00:00, 1227.93it/s]\n",
      "\u001b[34m\u001b[1mtrain: \u001b[0mCaching images (0.8GB ram):  93%|#########3| 2010/2154 [00:01<00:00, 1190.45it/s]\n",
      "\u001b[34m\u001b[1mtrain: \u001b[0mCaching images (0.8GB ram): 100%|##########| 2154/2154 [00:01<00:00, 1288.78it/s]\n",
      "OMP: Error #15: Initializing libiomp5md.dll, but found libiomp5md.dll already initialized.\n",
      "OMP: Hint This means that multiple copies of the OpenMP runtime have been linked into the program. That is dangerous, since it can degrade performance or cause incorrect results. The best thing to do is to ensure that only a single OpenMP runtime is linked into the process, e.g. by avoiding static linking of the OpenMP runtime in any library. As an unsafe, unsupported, undocumented workaround you can set the environment variable KMP_DUPLICATE_LIB_OK=TRUE to allow the program to continue to execute, but that may cause crashes or silently produce incorrect results. For more information, please see http://www.intel.com/software/products/support/.\n",
      "OMP: Error #15: Initializing libiomp5md.dll, but found libiomp5md.dll already initialized.\n",
      "OMP: Hint This means that multiple copies of the OpenMP runtime have been linked into the program. That is dangerous, since it can degrade performance or cause incorrect results. The best thing to do is to ensure that only a single OpenMP runtime is linked into the process, e.g. by avoiding static linking of the OpenMP runtime in any library. As an unsafe, unsupported, undocumented workaround you can set the environment variable KMP_DUPLICATE_LIB_OK=TRUE to allow the program to continue to execute, but that may cause crashes or silently produce incorrect results. For more information, please see http://www.intel.com/software/products/support/.\n",
      "OMP: Error #15: Initializing libiomp5md.dll, but found libiomp5md.dll already initialized.\n",
      "OMP: Hint This means that multiple copies of the OpenMP runtime have been linked into the program. That is dangerous, since it can degrade performance or cause incorrect results. The best thing to do is to ensure that only a single OpenMP runtime is linked into the process, e.g. by avoiding static linking of the OpenMP runtime in any library. As an unsafe, unsupported, undocumented workaround you can set the environment variable KMP_DUPLICATE_LIB_OK=TRUE to allow the program to continue to execute, but that may cause crashes or silently produce incorrect results. For more information, please see http://www.intel.com/software/products/support/.\n",
      "OMP: Error #15: Initializing libiomp5md.dll, but found libiomp5md.dll already initialized.\n",
      "OMP: Hint This means that multiple copies of the OpenMP runtime have been linked into the program. That is dangerous, since it can degrade performance or cause incorrect results. The best thing to do is to ensure that only a single OpenMP runtime is linked into the process, e.g. by avoiding static linking of the OpenMP runtime in any library. As an unsafe, unsupported, undocumented workaround you can set the environment variable KMP_DUPLICATE_LIB_OK=TRUE to allow the program to continue to execute, but that may cause crashes or silently produce incorrect results. For more information, please see http://www.intel.com/software/products/support/.\n",
      "OMP: Error #15: Initializing libiomp5md.dll, but found libiomp5md.dll already initialized.\n",
      "OMP: Hint This means that multiple copies of the OpenMP runtime have been linked into the program. That is dangerous, since it can degrade performance or cause incorrect results. The best thing to do is to ensure that only a single OpenMP runtime is linked into the process, e.g. by avoiding static linking of the OpenMP runtime in any library. As an unsafe, unsupported, undocumented workaround you can set the environment variable KMP_DUPLICATE_LIB_OK=TRUE to allow the program to continue to execute, but that may cause crashes or silently produce incorrect results. For more information, please see http://www.intel.com/software/products/support/.\n",
      "OMP: Error #15: Initializing libiomp5md.dll, but found libiomp5md.dll already initialized.\n",
      "OMP: Hint This means that multiple copies of the OpenMP runtime have been linked into the program. That is dangerous, since it can degrade performance or cause incorrect results. The best thing to do is to ensure that only a single OpenMP runtime is linked into the process, e.g. by avoiding static linking of the OpenMP runtime in any library. As an unsafe, unsupported, undocumented workaround you can set the environment variable KMP_DUPLICATE_LIB_OK=TRUE to allow the program to continue to execute, but that may cause crashes or silently produce incorrect results. For more information, please see http://www.intel.com/software/products/support/.\n",
      "OMP: Error #15: Initializing libiomp5md.dll, but found libiomp5md.dll already initialized.\n",
      "OMP: Hint This means that multiple copies of the OpenMP runtime have been linked into the program. That is dangerous, since it can degrade performance or cause incorrect results. The best thing to do is to ensure that only a single OpenMP runtime is linked into the process, e.g. by avoiding static linking of the OpenMP runtime in any library. As an unsafe, unsupported, undocumented workaround you can set the environment variable KMP_DUPLICATE_LIB_OK=TRUE to allow the program to continue to execute, but that may cause crashes or silently produce incorrect results. For more information, please see http://www.intel.com/software/products/support/.\n",
      "OMP: Error #15: Initializing libiomp5md.dll, but found libiomp5md.dll already initialized.\n",
      "OMP: Hint This means that multiple copies of the OpenMP runtime have been linked into the program. That is dangerous, since it can degrade performance or cause incorrect results. The best thing to do is to ensure that only a single OpenMP runtime is linked into the process, e.g. by avoiding static linking of the OpenMP runtime in any library. As an unsafe, unsupported, undocumented workaround you can set the environment variable KMP_DUPLICATE_LIB_OK=TRUE to allow the program to continue to execute, but that may cause crashes or silently produce incorrect results. For more information, please see http://www.intel.com/software/products/support/.\n",
      "\n",
      "\u001b[34m\u001b[1mval: \u001b[0mScanning '..\\dataset\\labels\\val.cache' images and labels... 539 found, 2696 missing, 0 empty, 0 corrupted: 100%|##########| 3235/3235 [00:00<?, ?it/s]\n",
      "\u001b[34m\u001b[1mval: \u001b[0mScanning '..\\dataset\\labels\\val.cache' images and labels... 539 found, 2696 missing, 0 empty, 0 corrupted: 100%|##########| 3235/3235 [00:00<?, ?it/s]\n",
      "\n",
      "  0%|          | 0/3235 [00:00<?, ?it/s]\n",
      "\u001b[34m\u001b[1mval: \u001b[0mCaching images (0.0GB ram):   1%|          | 17/3235 [00:00<00:25, 127.77it/s]\n",
      "\u001b[34m\u001b[1mval: \u001b[0mCaching images (0.0GB ram):   1%|1         | 44/3235 [00:00<00:16, 188.08it/s]\n",
      "\u001b[34m\u001b[1mval: \u001b[0mCaching images (0.0GB ram):   2%|2         | 78/3235 [00:00<00:14, 223.11it/s]\n",
      "\u001b[34m\u001b[1mval: \u001b[0mCaching images (0.0GB ram):   3%|3         | 101/3235 [00:00<00:15, 201.57it/s]\n",
      "\u001b[34m\u001b[1mval: \u001b[0mCaching images (0.0GB ram):   4%|4         | 136/3235 [00:00<00:13, 225.05it/s]\n",
      "\u001b[34m\u001b[1mval: \u001b[0mCaching images (0.1GB ram):   7%|7         | 239/3235 [00:00<00:06, 441.40it/s]\n",
      "\u001b[34m\u001b[1mval: \u001b[0mCaching images (0.1GB ram):   9%|9         | 301/3235 [00:00<00:06, 480.11it/s]\n",
      "\u001b[34m\u001b[1mval: \u001b[0mCaching images (0.1GB ram):  11%|#         | 352/3235 [00:00<00:06, 440.43it/s]\n",
      "\u001b[34m\u001b[1mval: \u001b[0mCaching images (0.2GB ram):  20%|##        | 647/3235 [00:01<00:02, 1105.51it/s]\n",
      "\u001b[34m\u001b[1mval: \u001b[0mCaching images (0.3GB ram):  27%|##6       | 866/3235 [00:01<00:01, 1385.98it/s]\n",
      "\u001b[34m\u001b[1mval: \u001b[0mCaching images (0.3GB ram):  32%|###2      | 1040/3235 [00:01<00:01, 1449.67it/s]\n",
      "\u001b[34m\u001b[1mval: \u001b[0mCaching images (0.4GB ram):  37%|###6      | 1193/3235 [00:01<00:01, 1314.98it/s]\n",
      "\u001b[34m\u001b[1mval: \u001b[0mCaching images (0.5GB ram):  46%|####6     | 1490/3235 [00:01<00:01, 1685.96it/s]\n",
      "\u001b[34m\u001b[1mval: \u001b[0mCaching images (0.6GB ram):  51%|#####1    | 1666/3235 [00:01<00:01, 1407.79it/s]\n",
      "\u001b[34m\u001b[1mval: \u001b[0mCaching images (0.6GB ram):  56%|#####6    | 1818/3235 [00:02<00:01, 924.40it/s] \n",
      "\u001b[34m\u001b[1mval: \u001b[0mCaching images (0.7GB ram):  61%|######    | 1964/3235 [00:02<00:01, 905.78it/s]\n",
      "\u001b[34m\u001b[1mval: \u001b[0mCaching images (0.8GB ram):  64%|######4   | 2074/3235 [00:02<00:01, 857.99it/s]\n",
      "\u001b[34m\u001b[1mval: \u001b[0mCaching images (0.9GB ram):  71%|#######1  | 2310/3235 [00:02<00:00, 1013.32it/s]\n",
      "\u001b[34m\u001b[1mval: \u001b[0mCaching images (0.9GB ram):  75%|#######4  | 2421/3235 [00:02<00:00, 900.26it/s] \n",
      "\u001b[34m\u001b[1mval: \u001b[0mCaching images (1.0GB ram):  78%|#######8  | 2526/3235 [00:02<00:00, 867.19it/s]\n",
      "\u001b[34m\u001b[1mval: \u001b[0mCaching images (1.1GB ram):  84%|########3 | 2713/3235 [00:02<00:00, 1074.00it/s]\n",
      "\u001b[34m\u001b[1mval: \u001b[0mCaching images (1.1GB ram):  88%|########7 | 2833/3235 [00:03<00:00, 1032.78it/s]\n",
      "\u001b[34m\u001b[1mval: \u001b[0mCaching images (1.2GB ram):  96%|#########5| 3096/3235 [00:03<00:00, 1344.97it/s]\n",
      "\u001b[34m\u001b[1mval: \u001b[0mCaching images (1.2GB ram): 100%|##########| 3235/3235 [00:03<00:00, 925.07it/s] \n",
      "\n",
      "\u001b[34m\u001b[1mAutoAnchor: \u001b[0m4.84 anchors/target, 0.999 Best Possible Recall (BPR). Current anchors are a good fit to dataset \n",
      "Image sizes 416 train, 416 val\n",
      "Using 8 dataloader workers\n",
      "Logging results to \u001b[1mruns\\train\\exp6\u001b[0m\n",
      "Starting training for 10 epochs...\n",
      "\n",
      "     Epoch   gpu_mem       box       obj       cls    labels  img_size\n",
      "\n",
      "  0%|          | 0/270 [00:00<?, ?it/s]\n",
      "  0%|          | 0/270 [00:05<?, ?it/s]\n",
      "Traceback (most recent call last):\n",
      "  File \"C:\\Users\\2109902\\.conda\\envs\\envname\\lib\\site-packages\\torch\\utils\\data\\dataloader.py\", line 990, in _try_get_data\n",
      "    data = self._data_queue.get(timeout=timeout)\n",
      "  File \"C:\\Users\\2109902\\.conda\\envs\\envname\\lib\\multiprocessing\\queues.py\", line 114, in get\n",
      "    raise Empty\n",
      "_queue.Empty\n",
      "\n",
      "The above exception was the direct cause of the following exception:\n",
      "\n",
      "Traceback (most recent call last):\n",
      "  File \"E:\\projects\\Algae classification\\code\\yolov5\\train.py\", line 636, in <module>\n",
      "    main(opt)\n",
      "  File \"E:\\projects\\Algae classification\\code\\yolov5\\train.py\", line 533, in main\n",
      "    train(opt.hyp, opt, device, callbacks)\n",
      "  File \"E:\\projects\\Algae classification\\code\\yolov5\\train.py\", line 304, in train\n",
      "    for i, (imgs, targets, paths, _) in pbar:  # batch -------------------------------------------------------------\n",
      "  File \"C:\\Users\\2109902\\.conda\\envs\\envname\\lib\\site-packages\\tqdm\\std.py\", line 1180, in __iter__\n",
      "    for obj in iterable:\n",
      "  File \"E:\\projects\\Algae classification\\code\\yolov5\\utils\\datasets.py\", line 141, in __iter__\n",
      "    yield next(self.iterator)\n",
      "  File \"C:\\Users\\2109902\\.conda\\envs\\envname\\lib\\site-packages\\torch\\utils\\data\\dataloader.py\", line 521, in __next__\n",
      "    data = self._next_data()\n",
      "  File \"C:\\Users\\2109902\\.conda\\envs\\envname\\lib\\site-packages\\torch\\utils\\data\\dataloader.py\", line 1186, in _next_data\n",
      "    idx, data = self._get_data()\n",
      "  File \"C:\\Users\\2109902\\.conda\\envs\\envname\\lib\\site-packages\\torch\\utils\\data\\dataloader.py\", line 1152, in _get_data\n",
      "    success, data = self._try_get_data()\n",
      "  File \"C:\\Users\\2109902\\.conda\\envs\\envname\\lib\\site-packages\\torch\\utils\\data\\dataloader.py\", line 1003, in _try_get_data\n",
      "    raise RuntimeError('DataLoader worker (pid(s) {}) exited unexpectedly'.format(pids_str)) from e\n",
      "RuntimeError: DataLoader worker (pid(s) 4100, 23340, 28944, 23184, 24236, 22384, 39588, 20316) exited unexpectedly\n"
     ]
    }
   ],
   "source": [
    "!python train.py --img 415 --batch 8 --epochs 10 --data dataset.yaml --weights yolov5s.pt --cache"
   ]
  }
 ],
 "metadata": {
  "kernelspec": {
   "display_name": "Python 3 (ipykernel)",
   "language": "python",
   "name": "python3"
  },
  "language_info": {
   "codemirror_mode": {
    "name": "ipython",
    "version": 3
   },
   "file_extension": ".py",
   "mimetype": "text/x-python",
   "name": "python",
   "nbconvert_exporter": "python",
   "pygments_lexer": "ipython3",
   "version": "3.9.7"
  }
 },
 "nbformat": 4,
 "nbformat_minor": 4
}
